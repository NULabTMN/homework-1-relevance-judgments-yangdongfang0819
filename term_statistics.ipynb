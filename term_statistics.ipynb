{
  "nbformat": 4,
  "nbformat_minor": 0,
  "metadata": {
    "colab": {
      "name": "term-statistics.ipynb",
      "provenance": [],
      "include_colab_link": true
    },
    "kernelspec": {
      "name": "python3",
      "display_name": "Python 3"
    },
    "language_info": {
      "name": "python"
    }
  },
  "cells": [
    {
      "cell_type": "markdown",
      "metadata": {
        "id": "view-in-github",
        "colab_type": "text"
      },
      "source": [
        "<a href=\"https://colab.research.google.com/github/NULabTMN/homework-1-relevance-judgments-yangdongfang0819/blob/main/term_statistics.ipynb\" target=\"_parent\"><img src=\"https://colab.research.google.com/assets/colab-badge.svg\" alt=\"Open In Colab\"/></a>"
      ]
    },
    {
      "cell_type": "markdown",
      "metadata": {
        "id": "2yYCQrU0J5C5"
      },
      "source": [
        "# Working with Terms and Documents\n",
        "\n",
        "This exercise starts off with term statistics computations and graphing. In the final section (for CS6200 students), you collect new documents to experiment with.\n",
        "\n",
        "Read through this Jupyter notebook and fill in the parts marked with `TODO`."
      ]
    },
    {
      "cell_type": "markdown",
      "metadata": {
        "id": "tA4bCPS1MmAx"
      },
      "source": [
        "## Sample Data\n",
        "\n",
        "Start by looking at some sample data. We donwload the counts of terms in documents for the first one million tokens of a newswire collection."
      ]
    },
    {
      "cell_type": "code",
      "metadata": {
        "id": "W-IMINS4IFUg",
        "outputId": "66e2c252-89ad-4d9c-e1d6-2b431b4e6bdf",
        "colab": {
          "base_uri": "https://localhost:8080/"
        }
      },
      "source": [
        "!wget -O ap201001.json.gz https://github.com/dasmiq/cs6200-documents/blob/main/ap201001.json.gz?raw=true\n",
        "!gunzip ap201001.json.gz"
      ],
      "execution_count": 3,
      "outputs": [
        {
          "output_type": "stream",
          "name": "stdout",
          "text": [
            "--2024-10-15 22:39:46--  https://github.com/dasmiq/cs6200-documents/blob/main/ap201001.json.gz?raw=true\n",
            "Resolving github.com (github.com)... 140.82.112.4\n",
            "Connecting to github.com (github.com)|140.82.112.4|:443... connected.\n",
            "HTTP request sent, awaiting response... 302 Found\n",
            "Location: https://github.com/dasmiq/cs6200-documents/raw/refs/heads/main/ap201001.json.gz [following]\n",
            "--2024-10-15 22:39:46--  https://github.com/dasmiq/cs6200-documents/raw/refs/heads/main/ap201001.json.gz\n",
            "Reusing existing connection to github.com:443.\n",
            "HTTP request sent, awaiting response... 302 Found\n",
            "Location: https://raw.githubusercontent.com/dasmiq/cs6200-documents/refs/heads/main/ap201001.json.gz [following]\n",
            "--2024-10-15 22:39:47--  https://raw.githubusercontent.com/dasmiq/cs6200-documents/refs/heads/main/ap201001.json.gz\n",
            "Resolving raw.githubusercontent.com (raw.githubusercontent.com)... 185.199.109.133, 185.199.108.133, 185.199.110.133, ...\n",
            "Connecting to raw.githubusercontent.com (raw.githubusercontent.com)|185.199.109.133|:443... connected.\n",
            "HTTP request sent, awaiting response... 200 OK\n",
            "Length: 2854711 (2.7M) [application/octet-stream]\n",
            "Saving to: ‘ap201001.json.gz’\n",
            "\n",
            "ap201001.json.gz    100%[===================>]   2.72M  --.-KB/s    in 0.08s   \n",
            "\n",
            "2024-10-15 22:39:47 (35.9 MB/s) - ‘ap201001.json.gz’ saved [2854711/2854711]\n",
            "\n"
          ]
        }
      ]
    },
    {
      "cell_type": "markdown",
      "metadata": {
        "id": "_SEFjGZvM4lY"
      },
      "source": [
        "We convert this file with one JSON record on each line to a list of dictionaries."
      ]
    },
    {
      "cell_type": "code",
      "metadata": {
        "id": "6CrLD5SOIMz1"
      },
      "source": [
        "import json\n",
        "rawfile = open('ap201001.json')\n",
        "terms = [json.loads(line) for line in rawfile]"
      ],
      "execution_count": 4,
      "outputs": []
    },
    {
      "cell_type": "markdown",
      "metadata": {
        "id": "Rg4P9XJJM_lZ"
      },
      "source": [
        "Here are the first ten records, showing the count of each term for each document and field. In this dataset, field only takes the values `body` or `title`."
      ]
    },
    {
      "cell_type": "code",
      "metadata": {
        "colab": {
          "base_uri": "https://localhost:8080/"
        },
        "id": "g8GdOuyzI0wm",
        "outputId": "3dd7f86b-f894-4aae-dff8-b3b7e36d0100"
      },
      "source": [
        "terms[1:10]"
      ],
      "execution_count": 5,
      "outputs": [
        {
          "output_type": "execute_result",
          "data": {
            "text/plain": [
              "[{'id': 'APW_ENG_20100101.0001', 'field': 'body', 'term': 'about', 'count': 1},\n",
              " {'id': 'APW_ENG_20100101.0001', 'field': 'body', 'term': 'abuse', 'count': 1},\n",
              " {'id': 'APW_ENG_20100101.0001',\n",
              "  'field': 'body',\n",
              "  'term': 'academy',\n",
              "  'count': 1},\n",
              " {'id': 'APW_ENG_20100101.0001',\n",
              "  'field': 'body',\n",
              "  'term': 'accused',\n",
              "  'count': 2},\n",
              " {'id': 'APW_ENG_20100101.0001',\n",
              "  'field': 'body',\n",
              "  'term': 'actress',\n",
              "  'count': 1},\n",
              " {'id': 'APW_ENG_20100101.0001', 'field': 'body', 'term': 'ad', 'count': 1},\n",
              " {'id': 'APW_ENG_20100101.0001', 'field': 'body', 'term': 'after', 'count': 1},\n",
              " {'id': 'APW_ENG_20100101.0001',\n",
              "  'field': 'body',\n",
              "  'term': 'agenda',\n",
              "  'count': 1},\n",
              " {'id': 'APW_ENG_20100101.0001',\n",
              "  'field': 'body',\n",
              "  'term': 'agreed',\n",
              "  'count': 1}]"
            ]
          },
          "metadata": {},
          "execution_count": 5
        }
      ]
    },
    {
      "cell_type": "markdown",
      "metadata": {
        "id": "q-CjFLXH3BJg"
      },
      "source": [
        "Each record has four fields:\n",
        "* `id`, with the identifier for the document;\n",
        "* `field`, with the region of the document containing a given term;\n",
        "* `term`, with the lower-cased term; and\n",
        "* `count`, with the number of times each term occurred in that field and document."
      ]
    },
    {
      "cell_type": "markdown",
      "metadata": {
        "id": "2H5yBvEVNUPr"
      },
      "source": [
        "## Computing Term Statistics\n"
      ]
    },
    {
      "cell_type": "markdown",
      "metadata": {
        "id": "qhDt23kKv0Uy"
      },
      "source": [
        "If we look at the most frequent terms for a given document, we mostly see common function words, such as `the`, `and`, and `of`. Start exploring the dataset by computing some of these basic term statistics. You can make your life easier using data frame libraries such as `pandas`, core python libraries such as `collections`, or just simple list comprehensions.\n",
        "\n",
        "Feel free to define helper functions in your code before computing the statistics we're looking for."
      ]
    },
    {
      "cell_type": "code",
      "metadata": {
        "id": "2Zy5qR562nZ5",
        "outputId": "2fcae146-259d-46cd-df43-dcacd03876d7",
        "colab": {
          "base_uri": "https://localhost:8080/"
        }
      },
      "source": [
        "# TODO: Print the 10 terms from document APW_ENG_20100101.0001 with the highest count.\n",
        "# Helper function\n",
        "def get_terms_by_doc_id(doc_id):\n",
        "    return [term for term in terms if term['id'] == doc_id]\n",
        "\n",
        "# Fetch terms\n",
        "doc_id = 'APW_ENG_20100101.0001'\n",
        "doc_terms = get_terms_by_doc_id(doc_id)\n",
        "\n",
        "# Sort terms and select top 10\n",
        "top_10_terms = sorted(doc_terms, key=lambda x: x['count'], reverse=True)[:10]\n",
        "\n",
        "# Print top 10 terms with counts\n",
        "print(f\"Top 10 terms from document {doc_id}:\")\n",
        "for term in top_10_terms:\n",
        "    print(f\"Term: {term['term']}, Count: {term['count']}\")"
      ],
      "execution_count": 6,
      "outputs": [
        {
          "output_type": "stream",
          "name": "stdout",
          "text": [
            "Top 10 terms from document APW_ENG_20100101.0001:\n",
            "Term: a, Count: 16\n",
            "Term: the, Count: 11\n",
            "Term: and, Count: 10\n",
            "Term: brooks, Count: 10\n",
            "Term: of, Count: 10\n",
            "Term: to, Count: 10\n",
            "Term: he, Count: 9\n",
            "Term: in, Count: 9\n",
            "Term: gomez, Count: 8\n",
            "Term: for, Count: 6\n"
          ]
        }
      ]
    },
    {
      "cell_type": "code",
      "metadata": {
        "id": "U7OwCo0w5R1q",
        "outputId": "ff0979f3-1f95-4a14-eeaf-04a3202d3d04",
        "colab": {
          "base_uri": "https://localhost:8080/"
        }
      },
      "source": [
        "# TODO: Print the 10 terms with the highest total count in the corpus.\n",
        "from collections import defaultdict\n",
        "\n",
        "# Aggregate total count for each term across the entire corpus\n",
        "term_counts = defaultdict(int)\n",
        "\n",
        "for term in terms:\n",
        "    term_counts[term['term']] += term['count']\n",
        "\n",
        "# Sort terms by their total count\n",
        "sorted_term_counts = sorted(term_counts.items(), key=lambda x: x[1], reverse=True)\n",
        "\n",
        "# Print top 10 terms\n",
        "print(\"Top 10 terms in the corpus by total count:\")\n",
        "for term, count in sorted_term_counts[:10]:\n",
        "    print(f\"Term: {term}, Total Count: {count}\")"
      ],
      "execution_count": 7,
      "outputs": [
        {
          "output_type": "stream",
          "name": "stdout",
          "text": [
            "Top 10 terms in the corpus by total count:\n",
            "Term: the, Total Count: 62216\n",
            "Term: to, Total Count: 26931\n",
            "Term: in, Total Count: 25659\n",
            "Term: a, Total Count: 23383\n",
            "Term: of, Total Count: 22326\n",
            "Term: and, Total Count: 22125\n",
            "Term: said, Total Count: 10888\n",
            "Term: for, Total Count: 9716\n",
            "Term: on, Total Count: 9382\n",
            "Term: that, Total Count: 8942\n"
          ]
        }
      ]
    },
    {
      "cell_type": "markdown",
      "metadata": {
        "id": "dnNEUACW23Dd"
      },
      "source": [
        "Raw counts may not be the most informative statistic. One common improvement is to use *inverse document frequency*, the inverse of the proportion of documents that contain a given term."
      ]
    },
    {
      "cell_type": "code",
      "metadata": {
        "id": "uiUA502P2QkH",
        "outputId": "0a658621-2cdb-41ea-feeb-dbd398304241",
        "colab": {
          "base_uri": "https://localhost:8080/"
        }
      },
      "source": [
        "# TODO: Compute the number of distinct documents in the collection.\n",
        "N = 0\n",
        "\n",
        "# Use a set to gather document IDs\n",
        "distinct_docs = set(term['id'] for term in terms)\n",
        "\n",
        "# Get count\n",
        "N = len(distinct_docs)\n",
        "\n",
        "# Print number of distinct documents\n",
        "print(f\"Number of distinct documents in the collection: {N}\")"
      ],
      "execution_count": 8,
      "outputs": [
        {
          "output_type": "stream",
          "name": "stdout",
          "text": [
            "Number of distinct documents in the collection: 2778\n"
          ]
        }
      ]
    },
    {
      "cell_type": "code",
      "source": [
        "# TODO: Compute the number of distinct documents each term appears in\n",
        "# and store in a dictionary.\n",
        "df = dict()\n",
        "from collections import defaultdict\n",
        "\n",
        "# Initialize dictionary with default value as a set\n",
        "df = defaultdict(set)\n",
        "\n",
        "# Populate dictionary\n",
        "for term in terms:\n",
        "    df[term['term']].add(term['id'])\n",
        "\n",
        "# Convert sets\n",
        "df = {term: len(doc_ids) for term, doc_ids in df.items()}\n",
        "\n",
        "# Print sample of dictionary (first 10 terms)\n",
        "print(\"Sample of document frequencies (df):\")\n",
        "for term, count in list(df.items())[:10]:\n",
        "    print(f\"Term: {term}, Document Count: {count}\")"
      ],
      "metadata": {
        "id": "L1X4_O69VZUz",
        "outputId": "6a2cb32d-892f-4bb5-a2f4-c155aaf32ceb",
        "colab": {
          "base_uri": "https://localhost:8080/"
        }
      },
      "execution_count": 9,
      "outputs": [
        {
          "output_type": "stream",
          "name": "stdout",
          "text": [
            "Sample of document frequencies (df):\n",
            "Term: a, Document Count: 2571\n",
            "Term: about, Document Count: 1077\n",
            "Term: abuse, Document Count: 26\n",
            "Term: academy, Document Count: 20\n",
            "Term: accused, Document Count: 201\n",
            "Term: actress, Document Count: 23\n",
            "Term: ad, Document Count: 16\n",
            "Term: after, Document Count: 1484\n",
            "Term: agenda, Document Count: 16\n",
            "Term: agreed, Document Count: 163\n"
          ]
        }
      ]
    },
    {
      "cell_type": "code",
      "metadata": {
        "id": "_XMPAKYNCq6Y",
        "outputId": "3c7f121b-8b8a-4bcc-a398-51f43ec1bab4",
        "colab": {
          "base_uri": "https://localhost:8080/"
        }
      },
      "source": [
        "# TODO: Print the relative document frequency of 'the',\n",
        "# i.e., the number of documents that contain 'the' divided by N.\n",
        "# Assuming 'df' is the dictionary from the previous TODO and 'N' is the total number of distinct documents\n",
        "\n",
        "# Get number of documents that contain the term 'the'\n",
        "documents_with_the = df.get('the', 0)\n",
        "\n",
        "# Calculate relative document frequency\n",
        "relative_df_the = documents_with_the / N\n",
        "\n",
        "# Print result\n",
        "print(f\"Relative document frequency of 'the': {relative_df_the}\")"
      ],
      "execution_count": 10,
      "outputs": [
        {
          "output_type": "stream",
          "name": "stdout",
          "text": [
            "Relative document frequency of 'the': 0.9704823614110871\n"
          ]
        }
      ]
    },
    {
      "cell_type": "markdown",
      "metadata": {
        "id": "ohFmwtc7Chy3"
      },
      "source": [
        "Empricially, we usually see better retrieval results if we rescale term frequency (within documents) and inverse document frequency (across documents) with the log function. Let the `tfidf` of term _t_ in document _d_ be:\n",
        "```\n",
        "tfidf(t, d) = log(count(t, d) + 1) * log(N / df(t))\n",
        "```\n",
        "\n",
        "Later in the course, we will show a probabilistic derivation of this quantity based on smoothing language models."
      ]
    },
    {
      "cell_type": "code",
      "metadata": {
        "id": "Fmyj4v_uHdyo",
        "outputId": "4b228b7a-55d1-40d6-c676-f2c5b31b1dfa",
        "colab": {
          "base_uri": "https://localhost:8080/"
        }
      },
      "source": [
        "# TODO: Compute the tf-idf value for each term in each document.\n",
        "# Take the raw term data and add a tfidf field to each record.\n",
        "tfidf_terms = None\n",
        "\n",
        "import numpy as np\n",
        "\n",
        "# Define function to calculate TF-IDF\n",
        "def compute_tfidf(term_data, df, N):\n",
        "    tfidf_terms = []\n",
        "\n",
        "    for term in term_data:\n",
        "        # Calculate TF\n",
        "        tf = np.log(term['count'] + 1)\n",
        "\n",
        "        # Calculate IDF\n",
        "        idf = np.log(N / (df.get(term['term'], 1)))\n",
        "\n",
        "        # Compute TF-IDF\n",
        "        tfidf = tf * idf\n",
        "\n",
        "        # Add TF-IDF to the term record\n",
        "        term_with_tfidf = {**term, 'tfidf': tfidf}\n",
        "        tfidf_terms.append(term_with_tfidf)\n",
        "\n",
        "    return tfidf_terms\n",
        "\n",
        "# Compute TF-IDF values\n",
        "tfidf_terms = compute_tfidf(terms, df, N)\n",
        "\n",
        "# Print sample to verify (first 10 records)\n",
        "print(\"Sample of TF-IDF values:\")\n",
        "for term in tfidf_terms[:10]:\n",
        "    print(f\"Term: {term['term']}, Document: {term['id']}, TF-IDF: {term['tfidf']:.4f}\")"
      ],
      "execution_count": 11,
      "outputs": [
        {
          "output_type": "stream",
          "name": "stdout",
          "text": [
            "Sample of TF-IDF values:\n",
            "Term: a, Document: APW_ENG_20100101.0001, TF-IDF: 0.2194\n",
            "Term: about, Document: APW_ENG_20100101.0001, TF-IDF: 0.6568\n",
            "Term: abuse, Document: APW_ENG_20100101.0001, TF-IDF: 3.2380\n",
            "Term: academy, Document: APW_ENG_20100101.0001, TF-IDF: 3.4198\n",
            "Term: accused, Document: APW_ENG_20100101.0001, TF-IDF: 2.8852\n",
            "Term: actress, Document: APW_ENG_20100101.0001, TF-IDF: 3.3229\n",
            "Term: ad, Document: APW_ENG_20100101.0001, TF-IDF: 3.5745\n",
            "Term: after, Document: APW_ENG_20100101.0001, TF-IDF: 0.4346\n",
            "Term: agenda, Document: APW_ENG_20100101.0001, TF-IDF: 3.5745\n",
            "Term: agreed, Document: APW_ENG_20100101.0001, TF-IDF: 1.9656\n"
          ]
        }
      ]
    },
    {
      "cell_type": "code",
      "metadata": {
        "id": "NlXQmMO9HxH0",
        "outputId": "5bedef34-263a-4738-e4cb-e06a6a1a039b",
        "colab": {
          "base_uri": "https://localhost:8080/"
        }
      },
      "source": [
        "# TODO: Print the 20 term-document pairs with the highest tf-idf values.\n",
        "# Sort terms by TF-IDF values in descending order\n",
        "top_20_tfidf_terms = sorted(tfidf_terms, key=lambda x: x['tfidf'], reverse=True)[:20]\n",
        "\n",
        "# Print top 20 term-document pairs with the highest TF-IDF values\n",
        "print(\"Top 20 term-document pairs with the highest TF-IDF values:\")\n",
        "for term in top_20_tfidf_terms:\n",
        "    print(f\"Term: {term['term']}, Document: {term['id']}, TF-IDF: {term['tfidf']:.4f}\")"
      ],
      "execution_count": 12,
      "outputs": [
        {
          "output_type": "stream",
          "name": "stdout",
          "text": [
            "Top 20 term-document pairs with the highest TF-IDF values:\n",
            "Term: guarani, Document: APW_ENG_20100103.0028, TF-IDF: 23.2929\n",
            "Term: nomination, Document: APW_ENG_20100105.0061, TF-IDF: 22.5194\n",
            "Term: methane, Document: APW_ENG_20100105.0446, TF-IDF: 21.9852\n",
            "Term: kheire, Document: APW_ENG_20100103.0015, TF-IDF: 21.4734\n",
            "Term: greyhound, Document: APW_ENG_20100105.0014, TF-IDF: 21.4734\n",
            "Term: shakespeare, Document: APW_ENG_20100107.0036, TF-IDF: 21.3070\n",
            "Term: guild, Document: APW_ENG_20100105.0061, TF-IDF: 20.6675\n",
            "Term: shakespeare, Document: APW_ENG_20100106.0428, TF-IDF: 20.5021\n",
            "Term: elkhart, Document: APW_ENG_20100102.0197, TF-IDF: 20.3387\n",
            "Term: magna, Document: APW_ENG_20100106.0075, TF-IDF: 20.3387\n",
            "Term: sutton, Document: APW_ENG_20100106.1325, TF-IDF: 19.9209\n",
            "Term: tohti, Document: APW_ENG_20100104.0043, TF-IDF: 19.7040\n",
            "Term: greyhounds, Document: APW_ENG_20100105.0014, TF-IDF: 19.7040\n",
            "Term: krewe, Document: APW_ENG_20100107.0018, TF-IDF: 19.7040\n",
            "Term: minhas, Document: APW_ENG_20100107.0928, TF-IDF: 19.7040\n",
            "Term: golden, Document: APW_ENG_20100105.0061, TF-IDF: 19.3026\n",
            "Term: actors, Document: APW_ENG_20100105.0061, TF-IDF: 19.2808\n",
            "Term: pirate, Document: APW_ENG_20100107.0018, TF-IDF: 19.2415\n",
            "Term: punk, Document: APW_ENG_20100103.0016, TF-IDF: 19.0971\n",
            "Term: shiites, Document: APW_ENG_20100104.0108, TF-IDF: 19.0141\n"
          ]
        }
      ]
    },
    {
      "cell_type": "markdown",
      "metadata": {
        "id": "f61xitl1IApl"
      },
      "source": [
        "## Plotting Term Distributions\n",
        "\n",
        "Besides frequencies and tf-idf values within documents, it is often helpful to look at the distrubitions of word frequencies in the whole collection. In class, we talk about the Zipf distribution of word rank versus frequency and Heaps' Law relating the number of distinct words to the number of tokens.\n",
        "\n",
        "We might examine these distributions to see, for instance, if an unexpectedly large number of very rare terms occurs, which might indicate noise added to our data."
      ]
    },
    {
      "cell_type": "code",
      "metadata": {
        "id": "fsM5k1_5Jj7Y",
        "outputId": "f86c956c-82ee-419b-abe0-7604b85dcc19",
        "colab": {
          "base_uri": "https://localhost:8080/"
        }
      },
      "source": [
        "# TODO: Compute a list of the distinct words in this collection and sort it in descending order of frequency.\n",
        "# Thus frequency[0] should contain the word \"the\" and the count 62216.\n",
        "frequency = []\n",
        "\n",
        "from collections import defaultdict\n",
        "\n",
        "# Aggregate total count for each term\n",
        "frequency_dict = defaultdict(int)\n",
        "\n",
        "for term in terms:\n",
        "    frequency_dict[term['term']] += term['count']\n",
        "\n",
        "# Sort terms by frequency in descending order\n",
        "frequency = sorted(frequency_dict.items(), key=lambda x: x[1], reverse=True)\n",
        "\n",
        "# Print most frequent term and others as sample to verify\n",
        "print(\"Top 10 terms by frequency in the collection:\")\n",
        "for word, count in frequency[:10]:\n",
        "    print(f\"Word: {word}, Count: {count}\")"
      ],
      "execution_count": 13,
      "outputs": [
        {
          "output_type": "stream",
          "name": "stdout",
          "text": [
            "Top 10 terms by frequency in the collection:\n",
            "Word: the, Count: 62216\n",
            "Word: to, Count: 26931\n",
            "Word: in, Count: 25659\n",
            "Word: a, Count: 23383\n",
            "Word: of, Count: 22326\n",
            "Word: and, Count: 22125\n",
            "Word: said, Count: 10888\n",
            "Word: for, Count: 9716\n",
            "Word: on, Count: 9382\n",
            "Word: that, Count: 8942\n"
          ]
        }
      ]
    },
    {
      "cell_type": "code",
      "metadata": {
        "id": "hdtc14EULkxS",
        "outputId": "2ba80fef-2c34-49d2-dccb-f23b25d55c63",
        "colab": {
          "base_uri": "https://localhost:8080/",
          "height": 569
        }
      },
      "source": [
        "# TODO: Plot a graph of the log of the rank (starting at 1) on the x-axis,\n",
        "# against the log of the frequency on the y-axis. You may use the matplotlib\n",
        "# or other library.\n",
        "import matplotlib.pyplot as plt\n",
        "\n",
        "import numpy as np\n",
        "\n",
        "# Assuming 'frequency' is sorted list of (word, count) tuples\n",
        "\n",
        "# Extract ranks and frequencies\n",
        "ranks = np.arange(1, len(frequency) + 1)\n",
        "frequencies = np.array([count for _, count in frequency])\n",
        "\n",
        "# Plot log of the rank (x-axis) against log of the frequency (y-axis)\n",
        "plt.figure(figsize=(8, 6))\n",
        "plt.loglog(ranks, frequencies)\n",
        "plt.xlabel('Log Rank')\n",
        "plt.ylabel('Log Frequency')\n",
        "plt.title('Zipf Distribution of Word Frequencies')\n",
        "plt.grid(True)\n",
        "plt.show()"
      ],
      "execution_count": 14,
      "outputs": [
        {
          "output_type": "display_data",
          "data": {
            "text/plain": [
              "<Figure size 800x600 with 1 Axes>"
            ],
            "image/png": "[encoded data removed]"
          },
          "metadata": {}
        }
      ]
    },
    {
      "cell_type": "code",
      "source": [
        "# TODO: Compute the number of tokens in the corpus.\n",
        "# Remember to count each occurrence of each word. For instance, the 62,216\n",
        "# instances of \"the\" will all count here.\n",
        "ntokens = 0\n",
        "\n",
        "# Initialize counter for the total number of tokens\n",
        "ntokens = sum(term['count'] for term in terms)\n",
        "\n",
        "# Print total number\n",
        "print(f\"Total number of tokens in the corpus: {ntokens}\")"
      ],
      "metadata": {
        "id": "-WdHjFCSC7WC",
        "outputId": "7b045861-0de1-4b16-a077-b27846424d7c",
        "colab": {
          "base_uri": "https://localhost:8080/"
        }
      },
      "execution_count": 15,
      "outputs": [
        {
          "output_type": "stream",
          "name": "stdout",
          "text": [
            "Total number of tokens in the corpus: 1000000\n"
          ]
        }
      ]
    },
    {
      "cell_type": "code",
      "source": [
        "# TODO: Compute the proportion of tokens made up by the top 10 most\n",
        "# frequent words.\n",
        "# Assuming 'frequency' is sorted list of (word, count) tuples from the previous #TODO\n",
        "\n",
        "# Calculate total number of tokens for the top 10 most frequent words\n",
        "top_10_token_count = sum([count for _, count in frequency[:10]])\n",
        "\n",
        "# Compute proportion of tokens\n",
        "top_10_proportion = top_10_token_count / ntokens\n",
        "\n",
        "# Print result\n",
        "print(f\"Proportion of tokens made up by the top 10 most frequent words: {top_10_proportion:.4f}\")"
      ],
      "metadata": {
        "id": "V_7wOcqKAz9m",
        "outputId": "577ccd2f-8f43-4e6e-8732-2cee61decdec",
        "colab": {
          "base_uri": "https://localhost:8080/"
        }
      },
      "execution_count": 16,
      "outputs": [
        {
          "output_type": "stream",
          "name": "stdout",
          "text": [
            "Proportion of tokens made up by the top 10 most frequent words: 0.2216\n"
          ]
        }
      ]
    },
    {
      "cell_type": "code",
      "source": [
        "# TODO: Compute the proportion of tokens made up by the words that occur\n",
        "# exactly once in this collection.\n",
        "# Calculate total number of tokens for words that occur exactly once\n",
        "single_occurrence_tokens = sum(count for _, count in frequency if count == 1)\n",
        "\n",
        "# Compute proportion of tokens\n",
        "single_occurrence_proportion = single_occurrence_tokens / ntokens\n",
        "\n",
        "# Print result\n",
        "print(f\"Proportion of tokens made up by words that occur exactly once: {single_occurrence_proportion:.4f}\")"
      ],
      "metadata": {
        "id": "uF-1VxcZBXMM",
        "outputId": "572b67af-afb1-4ccc-c7d2-c6dfea8bac73",
        "colab": {
          "base_uri": "https://localhost:8080/"
        }
      },
      "execution_count": 17,
      "outputs": [
        {
          "output_type": "stream",
          "name": "stdout",
          "text": [
            "Proportion of tokens made up by words that occur exactly once: 0.0066\n"
          ]
        }
      ]
    },
    {
      "cell_type": "markdown",
      "metadata": {
        "id": "GdiUXaXZMFqT"
      },
      "source": [
        "## Acquiring New Documents (for CS6200)\n",
        "\n",
        "For this assignment so far, you've worked with data that's already been extracted, tokenized, and counted. In this final section, you'll explore acquiring new data.\n",
        "\n",
        "One common way of acquiring data is through application programming interfaces (APIs) to various databases. The Library of Congress's [_Chronicling America_](https://chroniclingamerica.loc.gov/) site aggregates digitized US newspapers from the past two hundred years, such as the [_Seattle Star_](https://chroniclingamerica.loc.gov/lccn/sn87093407/1923-09-22/ed-1/seq-1/) from 100 years ago.\n",
        "\n",
        "You can use [the API](https://chroniclingamerica.loc.gov/about/api/) to retrieve JSON data listing all issues of the _Seattle Star_: https://chroniclingamerica.loc.gov/lccn/sn87093407.json\n",
        "\n",
        "Note the list in the `issues` field. For example, here is the record for the September 22, 1923, issue: https://chroniclingamerica.loc.gov/lccn/sn87093407/1923-09-22/ed-1.json\n",
        "\n",
        "In that issue record, you'll see records for each page, e.g.: https://chroniclingamerica.loc.gov/lccn/sn87093407/1923-09-22/ed-1/seq-1.json\n",
        "\n",
        "And inside that page record, you'll see links to data about that page in various data formats, such as JPEG, PDF, and plain text, which is what we want here: https://chroniclingamerica.loc.gov/lccn/sn87093407/1923-09-22/ed-1/seq-1/ocr.txt\n",
        "\n",
        "This plain text was transcribed from the old page images using optical character recognition (OCR) models, and so contains errors.\n",
        "\n",
        "Your task is to acquire and analyze the issues of the _Seattle Star_ from the month of September, 1923, i.e., the issues with a date field that starts with `1923-09`. This should be about the same amount of data as the million words from the Associated Press you analyzed in the last section."
      ]
    },
    {
      "cell_type": "markdown",
      "metadata": {
        "id": "EGPVnXv2O6AN"
      },
      "source": [
        "**TODO**: Write code that calls the _Chronicling America_ API to download and extract the text from the _Seattle Star_ from September 1923. You can use the `json` library from above and any other libraries you wish to fetch data from URLs. As you would when working with any production API, you may need to limit your rate of requests."
      ]
    },
    {
      "cell_type": "code",
      "metadata": {
        "id": "VeDDz1SaPLik",
        "outputId": "ff734759-24f7-441f-c660-727925889875",
        "colab": {
          "base_uri": "https://localhost:8080/"
        }
      },
      "source": [
        "# TODO: Data acquisition code here.\n",
        "import requests\n",
        "import json\n",
        "import time\n",
        "\n",
        "# Fetch data for the Seattle Star issues\n",
        "base_url = \"https://chroniclingamerica.loc.gov/lccn/sn87093407.json\"\n",
        "response = requests.get(base_url)\n",
        "\n",
        "# Check if request was successful\n",
        "if response.status_code == 200:\n",
        "    seattle_star_data = response.json()\n",
        "    issues = seattle_star_data['issues']\n",
        "\n",
        "# Filter issues from September 1923\n",
        "    september_1923_issues = [issue for issue in issues if issue['date_issued'].startswith(\"1923-09\")]\n",
        "\n",
        "    print(f\"Found {len(september_1923_issues)} issues from September 1923.\")\n",
        "\n",
        "    # Retrieve and extract text from each page\n",
        "    for issue in september_1923_issues:\n",
        "        issue_url = issue['url']\n",
        "        print(f\"Fetching issue: {issue_url}\")\n",
        "\n",
        "        # Fetch issue details to get pages\n",
        "        issue_response = requests.get(f\"{issue_url}/ocr.txt\")\n",
        "\n",
        "        if issue_response.status_code == 200:\n",
        "            print(f\"Successfully retrieved text from {issue_url}.\")\n",
        "            text_data = issue_response.text\n",
        "\n",
        "            with open(f\"seattle_star_{issue['date_issued']}.txt\", \"w\", encoding='utf-8') as file:\n",
        "                file.write(text_data)\n",
        "\n",
        "        # Rate limit\n",
        "        time.sleep(1)  # sleep for 1 second between requests\n",
        "else:\n",
        "    print(\"Failed to fetch the metadata for Seattle Star issues.\")"
      ],
      "execution_count": 18,
      "outputs": [
        {
          "output_type": "stream",
          "name": "stdout",
          "text": [
            "Found 25 issues from September 1923.\n",
            "Fetching issue: https://chroniclingamerica.loc.gov/lccn/sn87093407/1923-09-01/ed-1.json\n",
            "Fetching issue: https://chroniclingamerica.loc.gov/lccn/sn87093407/1923-09-03/ed-1.json\n",
            "Fetching issue: https://chroniclingamerica.loc.gov/lccn/sn87093407/1923-09-04/ed-1.json\n",
            "Fetching issue: https://chroniclingamerica.loc.gov/lccn/sn87093407/1923-09-05/ed-1.json\n",
            "Fetching issue: https://chroniclingamerica.loc.gov/lccn/sn87093407/1923-09-06/ed-1.json\n",
            "Fetching issue: https://chroniclingamerica.loc.gov/lccn/sn87093407/1923-09-07/ed-1.json\n",
            "Fetching issue: https://chroniclingamerica.loc.gov/lccn/sn87093407/1923-09-08/ed-1.json\n",
            "Fetching issue: https://chroniclingamerica.loc.gov/lccn/sn87093407/1923-09-10/ed-1.json\n",
            "Fetching issue: https://chroniclingamerica.loc.gov/lccn/sn87093407/1923-09-11/ed-1.json\n",
            "Fetching issue: https://chroniclingamerica.loc.gov/lccn/sn87093407/1923-09-12/ed-1.json\n",
            "Fetching issue: https://chroniclingamerica.loc.gov/lccn/sn87093407/1923-09-13/ed-1.json\n",
            "Fetching issue: https://chroniclingamerica.loc.gov/lccn/sn87093407/1923-09-14/ed-1.json\n",
            "Fetching issue: https://chroniclingamerica.loc.gov/lccn/sn87093407/1923-09-15/ed-1.json\n",
            "Fetching issue: https://chroniclingamerica.loc.gov/lccn/sn87093407/1923-09-17/ed-1.json\n",
            "Fetching issue: https://chroniclingamerica.loc.gov/lccn/sn87093407/1923-09-18/ed-1.json\n",
            "Fetching issue: https://chroniclingamerica.loc.gov/lccn/sn87093407/1923-09-19/ed-1.json\n",
            "Fetching issue: https://chroniclingamerica.loc.gov/lccn/sn87093407/1923-09-20/ed-1.json\n",
            "Fetching issue: https://chroniclingamerica.loc.gov/lccn/sn87093407/1923-09-21/ed-1.json\n",
            "Fetching issue: https://chroniclingamerica.loc.gov/lccn/sn87093407/1923-09-22/ed-1.json\n",
            "Fetching issue: https://chroniclingamerica.loc.gov/lccn/sn87093407/1923-09-24/ed-1.json\n",
            "Fetching issue: https://chroniclingamerica.loc.gov/lccn/sn87093407/1923-09-25/ed-1.json\n",
            "Fetching issue: https://chroniclingamerica.loc.gov/lccn/sn87093407/1923-09-26/ed-1.json\n",
            "Fetching issue: https://chroniclingamerica.loc.gov/lccn/sn87093407/1923-09-27/ed-1.json\n",
            "Fetching issue: https://chroniclingamerica.loc.gov/lccn/sn87093407/1923-09-28/ed-1.json\n",
            "Fetching issue: https://chroniclingamerica.loc.gov/lccn/sn87093407/1923-09-29/ed-1.json\n"
          ]
        }
      ]
    },
    {
      "cell_type": "markdown",
      "metadata": {
        "id": "L1-oRTixPKbw"
      },
      "source": [
        "**TODO**: Write code to tokenize the text and count the resulting terms in each document. Since this data comes from automatically transcribing printed pages, some words may be hyphenated across line breaks. There is more than one right way to tokenize this data, so add comments to your code documenting your choices."
      ]
    },
    {
      "cell_type": "code",
      "metadata": {
        "id": "Ydsh0h74Pnlh",
        "outputId": "b7d1a397-a9d5-4cf7-a773-04f106947a1c",
        "colab": {
          "base_uri": "https://localhost:8080/"
        }
      },
      "source": [
        "# TODO: Tokenization code here.\n",
        "\n",
        "import re\n",
        "from collections import defaultdict\n",
        "\n",
        "def clean_and_tokenize(text):\n",
        "    # clean text (handle hyphenated line breaks)\n",
        "    # Join the word correctly\n",
        "    cleaned_text = re.sub(r\"-\\n\", \"\", text)\n",
        "\n",
        "    # Replace newlines with spaces\n",
        "    cleaned_text = cleaned_text.replace(\"\\n\", \" \")\n",
        "\n",
        "    #Tokenize cleaned text (allowing only letters and numbers)\n",
        "    tokens = re.findall(r\"\\b\\w+\\b\", cleaned_text.lower())\n",
        "\n",
        "    return tokens\n",
        "\n",
        "def count_tokens(tokens):\n",
        "    # Use dictionary to count the frequency of each token\n",
        "    token_counts = defaultdict(int)\n",
        "    for token in tokens:\n",
        "        token_counts[token] += 1\n",
        "\n",
        "    return token_counts\n",
        "\n",
        "# Example:\n",
        "# Assuming 'text_data' is the raw OCR text extracted from a document\n",
        "text_data = \"\"\"\n",
        "The co-\\noperation between the two departments was essential.\n",
        "Despite the chal-\\nlenges, they achieved success.\n",
        "\"\"\"\n",
        "\n",
        "# Tokenize text and count terms\n",
        "tokens = clean_and_tokenize(text_data)\n",
        "token_counts = count_tokens(tokens)\n",
        "\n",
        "# Print resulting token counts\n",
        "print(\"Token Counts:\")\n",
        "for token, count in token_counts.items():\n",
        "    print(f\"{token}: {count}\")"
      ],
      "execution_count": 19,
      "outputs": [
        {
          "output_type": "stream",
          "name": "stdout",
          "text": [
            "Token Counts:\n",
            "the: 3\n",
            "cooperation: 1\n",
            "between: 1\n",
            "two: 1\n",
            "departments: 1\n",
            "was: 1\n",
            "essential: 1\n",
            "despite: 1\n",
            "challenges: 1\n",
            "they: 1\n",
            "achieved: 1\n",
            "success: 1\n"
          ]
        }
      ]
    },
    {
      "cell_type": "markdown",
      "metadata": {
        "id": "D-boFCotQ4Ur"
      },
      "source": [
        "**TODO**: Plot a graph of the log rank against log frequency for your collection, as you did for the sample collection above."
      ]
    },
    {
      "cell_type": "code",
      "source": [
        "# TODO: Plotting code here.\n",
        "import matplotlib.pyplot as plt\n",
        "import numpy as np\n",
        "\n",
        "# Assuming 'token_counts' is the dictionary with token frequencies\n",
        "\n",
        "# Convert token counts to a sorted list of (word, frequency) tuples\n",
        "sorted_token_counts = sorted(token_counts.items(), key=lambda x: x[1], reverse=True)\n",
        "\n",
        "# Extract ranks and frequencies\n",
        "ranks = np.arange(1, len(sorted_token_counts) + 1)\n",
        "frequencies = np.array([count for _, count in sorted_token_counts])\n",
        "\n",
        "# Plot log-log graph of rank vs. frequency\n",
        "plt.figure(figsize=(8, 6))\n",
        "plt.loglog(ranks, frequencies)\n",
        "plt.xlabel('Log Rank')\n",
        "plt.ylabel('Log Frequency')\n",
        "plt.title('Zipf Distribution of Token Frequencies in the OCR Text')\n",
        "plt.grid(True)\n",
        "plt.show()"
      ],
      "metadata": {
        "id": "-Z35asgBjiqO",
        "outputId": "c36a1c79-a646-4785-ac8b-1e873afb83cd",
        "colab": {
          "base_uri": "https://localhost:8080/",
          "height": 569
        }
      },
      "execution_count": 20,
      "outputs": [
        {
          "output_type": "display_data",
          "data": {
            "text/plain": [
              "<Figure size 800x600 with 1 Axes>"
            ],
            "image/png": "[encoded data removed]"
          },
          "metadata": {}
        }
      ]
    },
    {
      "cell_type": "markdown",
      "source": [
        "**TODO**: What do you observe about the differences between the distributions of the Associated Press and Seattle Star collections? In this text box, give some possible reasons for these differences.\n",
        "\n",
        "When comparing the distributions of the Associated Press (AP) and Seattle Star collections, several differences can be observed. The AP dataset likely exhibits a more typical Zipf distribution, with a smooth linear relationship on a log-log plot, reflecting a mix of common and rare words. In contrast, the Seattle Star collection might show irregularities, such as spikes or dips, due to inconsistencies in word usage and noise introduced by OCR errors. High-frequency words, like function words (\"the,\" \"and,\" \"of\"), will dominate both datasets, but the exact counts could vary. Additionally, the Seattle Star may have a longer tail of rare words, resulting in a higher proportion of unique terms, often due to OCR misinterpretations or historical language variations.\n",
        "\n",
        "These differences can be attributed to several factors. The Seattle Star data is derived from OCR processing of scanned historical newspapers, which can introduce errors, such as incorrect characters or fragmented words, leading to more noise or rare terms compared to the AP dataset. The historical context of the Seattle Star also means it includes older language styles, archaic phrases, and spelling variations that are less common today. In contrast, the AP dataset consists of modern, standardized reporting, leading to a more consistent language style and fewer unique or rare terms. Additionally, the process of digitizing historical newspapers can result in artifacts that affect tokenization, contributing to more single-occurrence words in the Seattle Star, while the AP data is processed directly from digital sources, resulting in cleaner tokenization.\n",
        "\n",
        "Overall, the differences between the two distributions highlight how factors like data quality, historical language usage, and the nature of content can impact text analysis. The AP data reflects cleaner, modern language use, whereas the Seattle Star shows a more varied language distribution due to its historical context and the limitations of OCR, offering a richer but noisier dataset."
      ],
      "metadata": {
        "id": "D5B-h__CjpvI"
      }
    }
  ]
}